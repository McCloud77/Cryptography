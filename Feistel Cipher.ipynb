{
 "cells": [
  {
   "cell_type": "markdown",
   "metadata": {},
   "source": [
    "## Feistel Cipher  \n",
    "\n",
    "A Feistel cipher is a symmetric structure used in the construction of block ciphers, named after the German-born physicist and cryptographer Horst Feistel. A large proportion of block ciphers use the scheme, including the Data Encryption Standard (DES). The Feistel structure has the advantage that encryption and decryption operations are very similar, even identical in some cases, requiring only a reversal of the key schedule.  \n",
    "\n",
    "The Feistel cipher consists of multiple rounds of processing of the plaintext, each round consisting of a “substitution” step followed by a permutation step.  \n",
    "\n",
    "\n",
    "- The input block to each round is divided into two halves that can be denoted as L and R for the left half and the right half.\n",
    "- In each round, the right half of the block, R, goes through unchanged. But the left half, L, goes through an operation that depends on R and the encryption key. First, we apply an encrypting function ‘f’ that takes two input − the key K and R. The function produces the output f(R,K). Then, we XOR the output of the mathematical function with L.\n",
    "- In real implementation of the Feistel Cipher, such as DES, instead of using the whole encryption key during each round, a round-dependent key (a subkey) is derived from the encryption key. This means that each round uses a different key, although all these subkeys are related to the original key.\n",
    "- The permutation step at the end of each round swaps the modified L and unmodified R. Therefore, the L for the next round would be R of the current round. And R for the next round be the output L of the current round.\n",
    "- Above substitution and permutation steps form a ‘round’. The number of rounds are specified by the algorithm design.\n",
    "- Once the last round is completed then the two sub blocks, ‘R’ and ‘L’ are concatenated in this order to form the ciphertext block.\n",
    "\n",
    "\n",
    "<img src=\"images/feistel.jpg\" style=\"height:350px\">\n",
    "\n",
    "Source: https://engineering.purdue.edu/kak/compsec/NewLectures/Lecture3.pdf  \n",
    "Code adapted from: https://github.com/fgutica/COMP7401-Feistel-Cipher"
   ]
  },
  {
   "cell_type": "code",
   "execution_count": 1,
   "metadata": {},
   "outputs": [],
   "source": [
    "import hashlib"
   ]
  },
  {
   "cell_type": "code",
   "execution_count": 2,
   "metadata": {},
   "outputs": [],
   "source": [
    "class Feistel():\n",
    "    \n",
    "    def __init__(self, key, mode):\n",
    "        self.ROUNDS = 8\n",
    "        self.BLOCKSIZE = 8\n",
    "        self.BLOCKSIZE_BITS = 64\n",
    "        self.SECRET = key\n",
    "        self.mode = mode\n",
    "\n",
    "    def key_256(self, key):\n",
    "        return hashlib.sha256((key + self.SECRET).encode('utf-8')).hexdigest()\n",
    "\n",
    "    def subkeygen(self, s1, s2, i):\n",
    "        result = hashlib.sha256((s1 + s2).encode('utf-8')).hexdigest()\n",
    "        return result\n",
    "\n",
    "    def xor(self, s1, s2):\n",
    "        return ''.join(chr(ord(a) ^ ord(b)) for a, b in zip(s1, s2))\n",
    "\n",
    "    def scramble(self, x, i, k):\n",
    "        k = self.stobin(k)\n",
    "        x = self.stobin(str(x))\n",
    "\n",
    "        k = self.bintoint(k)\n",
    "        x = self.bintoint(x)\n",
    "\n",
    "        res = pow((x * k), i)\n",
    "        res = self.itobin(res)\n",
    "\n",
    "        return self.bintostr(res)\n",
    "\n",
    "    # string to binary\n",
    "    def stobin(self, s):\n",
    "        return ''.join('{:08b}'.format(ord(c)) for c in s)\n",
    "\n",
    "    # binary to int\n",
    "    def bintoint(self, s):\n",
    "        return int(s, 2)\n",
    "\n",
    "    # int to binary\n",
    "    def itobin(self, i):\n",
    "        return bin(i)\n",
    "\n",
    "    # binary to string\n",
    "    def bintostr(self, b):\n",
    "        n = int(b, 2)\n",
    "        return ''.join(chr(int(b[i: i + 8], 2)) for i in range(0, len(b), 8))\n",
    "\n",
    "    def encryptMessage(self, message, key, mode):\n",
    "        \"\"\"\n",
    "        Mode: ecb or cbc\n",
    "        \"\"\"\n",
    "        ciphertext = \"\"\n",
    "        n = self.BLOCKSIZE  # 8 bytes (64 bits) per block\n",
    "\n",
    "        # Split message into 64-bit blocks\n",
    "        message = [message[i: i + n] for i in range(0, len(message), n)]\n",
    "\n",
    "        lengthOfLastBlock = len(message[len(message)-1])\n",
    "        if ( lengthOfLastBlock < self.BLOCKSIZE):\n",
    "            for i in range(lengthOfLastBlock, self.BLOCKSIZE):\n",
    "                message[len(message)-1] += \" \"\n",
    "\n",
    "        # Generate a 256 bit key based of user inputted key\n",
    "        key = self.key_256(key)\n",
    "        key_initial = key\n",
    "\n",
    "        for block in message:\n",
    "            L = [\"\"] * (self.ROUNDS + 1)\n",
    "            R = [\"\"] * (self.ROUNDS + 1)\n",
    "            L[0] = block[0: int(self.BLOCKSIZE/2)]\n",
    "            R[0] = block[int(self.BLOCKSIZE/2): self.BLOCKSIZE]\n",
    "\n",
    "            for i in range(1, self.ROUNDS+1):\n",
    "                L[i] = R[i - 1]\n",
    "\n",
    "                if (self.mode == \"cbc\"):\n",
    "                    if (i == 1):\n",
    "                        key = key_initial\n",
    "                    else:\n",
    "                        key = self.subkeygen(L[i], key_initial, i)\n",
    "\n",
    "                R[i] = self.xor(L[i - 1], self.scramble(R[i - 1], i, key))\n",
    "\n",
    "            ciphertext += (L[self.ROUNDS] + R[self.ROUNDS])\n",
    "\n",
    "        return ciphertext\n",
    "\n",
    "    def decryptCipher(self, key, ciphertext, mode):\n",
    "        message = \"\"\n",
    "        n = self.BLOCKSIZE  # 8 bytes (64 bits) per block\n",
    "\n",
    "        # Split message into 64bit blocks\n",
    "        ciphertext = [ciphertext[i: i + n] for i in range(0, len(ciphertext), n)]\n",
    "\n",
    "        # Pad last block, if necessary, with spaces\n",
    "        lengthOfLastBlock = len(ciphertext[len(ciphertext)-1])\n",
    "        if ( lengthOfLastBlock < self.BLOCKSIZE):\n",
    "            for i in range(lengthOfLastBlock, self.BLOCKSIZE):\n",
    "                ciphertext[len(ciphertext)-1] += \" \"\n",
    "\n",
    "        # Generate a 256 bit key based off the user inputted key\n",
    "        key = self.key_256(key)\n",
    "        key_initial = key\n",
    "        \n",
    "        for block in ciphertext:\n",
    "            L = [\"\"] * (self.ROUNDS + 1)\n",
    "            R = [\"\"] * (self.ROUNDS + 1)\n",
    "            L[self.ROUNDS] = block[0:int(self.BLOCKSIZE/2)]\n",
    "            R[self.ROUNDS] = block[int(self.BLOCKSIZE/2): self.BLOCKSIZE]\n",
    "\n",
    "            for i in range(8, 0, -1):\n",
    "\n",
    "                if (self.mode == \"cbc\"):\n",
    "                    key = self.subkeygen(L[i], key_initial, i)\n",
    "\n",
    "                    if (i == 1):\n",
    "                        key = key_initial\n",
    "\n",
    "                R[i-1] = L[i]\n",
    "                L[i-1] = self.xor(R[i], self.scramble(L[i], i, key))\n",
    "\n",
    "            message += (L[0] + R[0])\n",
    "\n",
    "        return message"
   ]
  },
  {
   "cell_type": "code",
   "execution_count": 3,
   "metadata": {},
   "outputs": [
    {
     "name": "stdout",
     "output_type": "stream",
     "text": [
      "!»û)‟`åyr\u0001t:\u00006\u0004Ã`=¢K38ãz=ä\u000f>i¾'üP*bz·Qj¨ddÄ\"\u0017ÇÙ#<(þ5\n"
     ]
    }
   ],
   "source": [
    "key = \"3f788083-77d3-4502-9d71-21319f1792b6\"\n",
    "mode = \"cbc\"\n",
    "f = Feistel(key, mode)\n",
    "message = \"Horst Feistel (January 30, 1915 – November 14, 1990) was a German-born cryptographer.\"\n",
    "encrypted_text = f.encryptMessage(message, key, mode)\n",
    "print(encrypted_text)"
   ]
  },
  {
   "cell_type": "code",
   "execution_count": 4,
   "metadata": {},
   "outputs": [
    {
     "name": "stdout",
     "output_type": "stream",
     "text": [
      "Horst Feistel (January 30, 1915 – November 14, 1990) was a German-born cryptographer.   \n"
     ]
    }
   ],
   "source": [
    "decrypted_text = f.decryptCipher(key, encrypted_text, mode)\n",
    "print(decrypted_text)"
   ]
  },
  {
   "cell_type": "code",
   "execution_count": null,
   "metadata": {},
   "outputs": [],
   "source": []
  }
 ],
 "metadata": {
  "kernelspec": {
   "display_name": "Python 3",
   "language": "python",
   "name": "python3"
  },
  "language_info": {
   "codemirror_mode": {
    "name": "ipython",
    "version": 3
   },
   "file_extension": ".py",
   "mimetype": "text/x-python",
   "name": "python",
   "nbconvert_exporter": "python",
   "pygments_lexer": "ipython3",
   "version": "3.6.5"
  }
 },
 "nbformat": 4,
 "nbformat_minor": 4
}

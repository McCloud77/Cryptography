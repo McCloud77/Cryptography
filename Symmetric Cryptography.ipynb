{
 "cells": [
  {
   "cell_type": "code",
   "execution_count": 1,
   "metadata": {},
   "outputs": [],
   "source": [
    "import numpy as np\n",
    "import string\n",
    "import re\n",
    "import math\n",
    "from random import shuffle\n",
    "from collections import Counter\n",
    "import matplotlib.pylab as plt\n",
    "%matplotlib inline\n",
    "import seaborn as sn"
   ]
  },
  {
   "cell_type": "markdown",
   "metadata": {},
   "source": [
    "# I. Substitution Ciphers"
   ]
  },
  {
   "cell_type": "markdown",
   "metadata": {},
   "source": [
    "## 1. Modulo Arithmetic"
   ]
  },
  {
   "cell_type": "markdown",
   "metadata": {},
   "source": [
    "In mathematics, modular arithmetic is a system of arithmetic for integers, where numbers \"wrap around\" upon reaching a certain value—the modulus. Modular arithmetic can be handled mathematically by introducing a congruence relation on the integers that is compatible with the operations on integers: addition, subtraction, and multiplication. For a positive integer n, two numbers a and b are said to be congruent modulo n, if their difference a − b is an integer multiple of n (that is, if there is an integer k such that a − b = kn). This congruence relation is typically considered when a and b are integers, and is denoted as:  \n",
    "\n",
    "$a$ = $b$ mod $n$"
   ]
  },
  {
   "cell_type": "code",
   "execution_count": 2,
   "metadata": {},
   "outputs": [
    {
     "name": "stdout",
     "output_type": "stream",
     "text": [
      "15 modulo 4: 3\n",
      "-5 modulo 3: 1\n"
     ]
    }
   ],
   "source": [
    "# Example\n",
    "print('15 modulo 4:', np.mod(15,4))\n",
    "print('-5 modulo 3:', np.mod(-5,3))"
   ]
  },
  {
   "cell_type": "markdown",
   "metadata": {},
   "source": [
    "The result from `-17 mod 4` may be somewhat surprising. Taking into account that the modulo (or remainder) **must** be positive, let's implement the two cases, performing a modulos operation on a positive and a negative number, explicitely."
   ]
  },
  {
   "cell_type": "code",
   "execution_count": 3,
   "metadata": {},
   "outputs": [
    {
     "name": "stdout",
     "output_type": "stream",
     "text": [
      "3\n",
      "0\n",
      "1\n"
     ]
    }
   ],
   "source": [
    "def mod_pos(dividend, divisor):\n",
    "    while dividend >= divisor:\n",
    "        dividend -= divisor\n",
    "    return dividend\n",
    "\n",
    "print(mod_pos(15, 4))\n",
    "print(mod_pos(3, 3))\n",
    "print(mod_pos(13, 2))"
   ]
  },
  {
   "cell_type": "code",
   "execution_count": 4,
   "metadata": {},
   "outputs": [
    {
     "name": "stdout",
     "output_type": "stream",
     "text": [
      "1\n",
      "3\n"
     ]
    }
   ],
   "source": [
    "def mod_neg(dividend, divisor):\n",
    "    while dividend < 0:\n",
    "        dividend += divisor\n",
    "    return dividend\n",
    "\n",
    "print(mod_neg(-5, 3))\n",
    "print(mod_neg(-17, 4))"
   ]
  },
  {
   "cell_type": "markdown",
   "metadata": {},
   "source": [
    "## 2. Caesar Cipher"
   ]
  },
  {
   "cell_type": "markdown",
   "metadata": {},
   "source": [
    "In cryptography, a Caesar cipher, also known as Caesar's cipher, the shift cipher, Caesar's code or Caesar shift, is one of the simplest and most widely known encryption techniques. It is a type of substitution cipher in which each letter in the plaintext is replaced by a letter some fixed number of positions down the alphabet."
   ]
  },
  {
   "cell_type": "code",
   "execution_count": 5,
   "metadata": {},
   "outputs": [],
   "source": [
    "class CaesarCipher:\n",
    "    def __init__(self, key=3):\n",
    "        self.key = key%26\n",
    "        \n",
    "        self.e = dict(zip(string.ascii_lowercase, string.ascii_lowercase[self.key:]\n",
    "                          + string.ascii_lowercase[:self.key]))\n",
    "        self.e.update(dict(zip(string.ascii_uppercase, string.ascii_uppercase[self.key:]\n",
    "                               + string.ascii_uppercase[:self.key])))\n",
    "\n",
    "        self.d = dict(zip(string.ascii_lowercase[self.key:] + string.ascii_lowercase[:self.key],\n",
    "                          string.ascii_lowercase))\n",
    "        self.d.update(dict(zip(string.ascii_uppercase[self.key:] + string.ascii_uppercase[:self.key],\n",
    "                               string.ascii_uppercase)))\n",
    "        \n",
    "    def encrypt(self, plaintext):\n",
    "        \"\"\"Converts plaintext to ciphertext.\n",
    "        :param str plaintext: The message to encrypt.\n",
    "        :return: The ciphertext.\n",
    "        :rtype: str\n",
    "        \"\"\"\n",
    "        return ''.join([self.e[letter]\n",
    "                        if letter in self.e else letter\n",
    "                        for letter in plaintext])\n",
    "\n",
    "    def decrypt(self, ciphertext):\n",
    "        \"\"\" Converts ciphertext to plaintext.\n",
    "        :param str ciphertext: The message to decrypt.\n",
    "        :return: The plaintext.\n",
    "        :rtype: str\n",
    "        \"\"\"\n",
    "        return ''.join([self.d[letter]\n",
    "                        if letter in self.d else letter\n",
    "                        for letter in ciphertext])"
   ]
  },
  {
   "cell_type": "code",
   "execution_count": 6,
   "metadata": {},
   "outputs": [],
   "source": [
    "with open('alice_ch1.txt', 'r', encoding='utf8') as file:\n",
    "    txt_file = file.read().replace('\\n', ' ')"
   ]
  },
  {
   "cell_type": "code",
   "execution_count": 7,
   "metadata": {},
   "outputs": [
    {
     "name": "stdout",
     "output_type": "stream",
     "text": [
      "Original:  CHAPTER I. Down the Rabbit-Hole  Alice was beginning to get very tired of sitting by her sister on t\n",
      "Encrypted: GLETXIV M. Hsar xli Veffmx-Lspi  Epmgi aew fikmrrmrk xs kix zivc xmvih sj wmxxmrk fc liv wmwxiv sr x\n",
      "Decrypted: CHAPTER I. Down the Rabbit-Hole  Alice was beginning to get very tired of sitting by her sister on t\n"
     ]
    }
   ],
   "source": [
    "print('Original: ', txt_file[:100])\n",
    "c = CaesarCipher(4)\n",
    "cipher_txt = c.encrypt(txt_file[:100])\n",
    "print('Encrypted:', cipher_txt)                        \n",
    "plain_txt = c.decrypt(cipher_txt)\n",
    "print('Decrypted:', plain_txt)"
   ]
  },
  {
   "cell_type": "markdown",
   "metadata": {},
   "source": [
    "## 3. Monoalphabetic Cipher"
   ]
  },
  {
   "cell_type": "markdown",
   "metadata": {},
   "source": [
    "A monoalphabetic substitution cipher, also known as a simple substitution cipher, relies on a fixed replacement structure. That is, the substitution is fixed for each letter of the alphabet. Thus, if \"a\" is encrypted to \"R\", then every time we see the letter \"a\" in the plaintext, we replace it with the letter \"R\" in the ciphertext."
   ]
  },
  {
   "cell_type": "code",
   "execution_count": 8,
   "metadata": {},
   "outputs": [],
   "source": [
    "class MonoAlphabetic:\n",
    "    \n",
    "    def make_key(self, pool=None):\n",
    "        \"\"\"\n",
    "        Generate a Monoalphabetic Cipher\n",
    "        \"\"\"\n",
    "        if pool is None:\n",
    "            pool = string.ascii_lowercase\n",
    "        original_pool = list(pool)\n",
    "        shuffled_pool = list(pool)\n",
    "        shuffle(shuffled_pool)\n",
    "        return dict(zip(original_pool, shuffled_pool))\n",
    "\n",
    "    def make_inverse_key(self, monoalpha_cipher):\n",
    "        inverse_monoalpha = {}\n",
    "        for key, value in monoalpha_cipher.items():\n",
    "            inverse_monoalpha[value] = key\n",
    "        return inverse_monoalpha\n",
    "    \n",
    "    def encrypt_with_monoalpha(self, message, monoalpha_cipher):\n",
    "        encrypted_message = []\n",
    "        for letter in message:\n",
    "            encrypted_message.append(monoalpha_cipher.get(letter, letter))\n",
    "        return ''.join(encrypted_message)\n",
    "\n",
    "    def decrypt_with_monoalpha(self, encrypted_message, monoalpha_cipher):\n",
    "        return self.encrypt_with_monoalpha(encrypted_message, self.make_inverse_key(monoalpha_cipher))"
   ]
  },
  {
   "cell_type": "code",
   "execution_count": 9,
   "metadata": {},
   "outputs": [
    {
     "name": "stdout",
     "output_type": "stream",
     "text": [
      "Encrypted text: wjjr wj vkrjx\n",
      "Decrypted text: meet me later\n"
     ]
    }
   ],
   "source": [
    "ma = MonoAlphabetic()\n",
    "key = ma.make_key()\n",
    "cipher_text = ma.encrypt_with_monoalpha(\"meet me later\", key)\n",
    "print('Encrypted text:', cipher_text)\n",
    "decrypt_text = ma.decrypt_with_monoalpha(cipher_text, key)\n",
    "print('Decrypted text:', decrypt_text)"
   ]
  },
  {
   "cell_type": "markdown",
   "metadata": {},
   "source": [
    "## 4. Natural Language Redundancy"
   ]
  },
  {
   "cell_type": "markdown",
   "metadata": {},
   "source": [
    "The frequency with which certain letters occur in the words of a particular language underlies the sensitivity of the monoalphabetic cipher to cryptanalysis. From the word frequencies below, we can see that the letter `e` is the most frequent in a 'randomly chosen text."
   ]
  },
  {
   "cell_type": "code",
   "execution_count": 10,
   "metadata": {},
   "outputs": [
    {
     "data": {
      "image/png": "[encoded data removed]",
      "text/plain": [
       "<Figure size 432x288 with 1 Axes>"
      ]
     },
     "metadata": {
      "needs_background": "light"
     },
     "output_type": "display_data"
    }
   ],
   "source": [
    "txt_file = re.sub('[^a-zA-Z]+', '', txt_file).lower() # remove non-alpha characters and convert to lower case\n",
    "counts=Counter(txt_file)\n",
    "counts.values()\n",
    "plt.bar(range(len(counts)), list(counts.values()), align='center')\n",
    "plt.xticks(range(len(counts)), sorted(counts.keys()));"
   ]
  },
  {
   "cell_type": "markdown",
   "metadata": {},
   "source": [
    "Such statistics based cryptanalysis will become more accurate as there are more samples to support the statistics.\n",
    "In addition, using a pair of letters, the letter H is more likely to follow the letter T than others, while the letter U is likely to follow the letter Q. Also, among the triplet of letters T, H, E occur very often as well. Therefore, a frequency based cryptanalysis technique can also be used by analyzing the sequence of alphabets.  \n",
    "The ideal case for cryptography is when the alphabets have uniform distribution and they have equal probabilities of occurrence which maximizes the information entropy of the alphabets.\n",
    "Polyalphabetic ciphers try to smooth out the frequency distribution and make the distribution closer to a uniform distribution. "
   ]
  },
  {
   "cell_type": "markdown",
   "metadata": {},
   "source": [
    "## 5. Polyalphabetic Cipher (Vignere)"
   ]
  },
  {
   "cell_type": "markdown",
   "metadata": {},
   "source": [
    "A polyalphabetic cipher is any cipher based on substitution, using multiple substitution alphabets. The Vigenère cipher has several Caesar ciphers in sequence with different shift values. The Vignere table has the alphabet written out 26 times in different rows, each alphabet shifted cyclically to the left compared to the previous alphabet, corresponding to the 26 possible Caesar ciphers. At different points in the encryption process, the cipher uses a different alphabet from one of the rows. The alphabet used at each point depends on a repeating keyword. Although there are 26 key rows, a code will use only as many keys (different alphabets) as there are unique letters in the key string, for example 5 keys in {L, E, M, O, N}. For successive letters of the message, successive letters of the key string will be taken and each message letter enciphered by using its corresponding key row. The next letter of the key is chosen, and that row is gone along to find the column heading that matches the message character. The letter at the intersection of [key-row, msg-col] is the enciphered letter."
   ]
  },
  {
   "cell_type": "markdown",
   "metadata": {},
   "source": [
    "<img src=\"vignere_table.png\" alt=\"Vignere Table\" style=\"width: 400px;\"/>"
   ]
  },
  {
   "cell_type": "markdown",
   "metadata": {},
   "source": [
    "Given the following:\n",
    "\n",
    "Plaintext: ATTACKATDAWN  \n",
    "Key: LEMONLEMONLE  \n",
    "Ciphertext: LXFOPVEFRNHR  \n",
    "\n",
    "The first letter of the plaintext, `A`, is paired with `L`, the first letter of the key. Therefore, `row L` and `column A` of the Vigenère square are used, namely `L`. Similarly, for the second letter of the plaintext, the second letter of the key is used. The letter at `row E` and `column T` is `X`. The rest of the plaintext is enciphered in a similar fashion.  \n",
    "\n",
    "Decryption is performed by going to the row in the table corresponding to the key, finding the position of the ciphertext letter in that row and then using the column's label as the plaintext. For example, in `row L` (from LEMON), the ciphertext `L` appears in `column A`, which is the first plaintext letter. Next, in `row E` (from LEMON), the ciphertext X is located in `column T`. Thus `T` is the second plaintext letter.  \n",
    "\n",
    "Source: https://en.wikipedia.org/wiki/Vigen%C3%A8re_cipher"
   ]
  },
  {
   "cell_type": "code",
   "execution_count": 11,
   "metadata": {},
   "outputs": [],
   "source": [
    "class Vignere:\n",
    "\n",
    "    def generateKey(self, string, key): \n",
    "        \"\"\"\n",
    "        Inputs: a string containing the message to be decrypted and a string specifying the key.\n",
    "        Output: a multiple of the key based on the length of the input string.\n",
    "        \"\"\"\n",
    "        key = list(key) \n",
    "        if len(string) == len(key): \n",
    "            return(key) \n",
    "        else: \n",
    "            for i in range(len(string) - \n",
    "                           len(key)): \n",
    "                key.append(key[i % len(key)]) \n",
    "        return(\"\" . join(key)) \n",
    "\n",
    "    def cipherText(self, string, key): \n",
    "        cipher_text = [] \n",
    "        for i in range(len(string)): \n",
    "            x = (ord(string[i]) + \n",
    "                 ord(key[i])) % 26\n",
    "            x += ord('A') \n",
    "            cipher_text.append(chr(x)) \n",
    "        return(\"\" . join(cipher_text)) \n",
    "\n",
    "    def originalText(self, cipher_text, key): \n",
    "        orig_text = [] \n",
    "        for i in range(len(cipher_text)): \n",
    "            x = (ord(cipher_text[i]) - \n",
    "                 ord(key[i]) + 26) % 26\n",
    "            x += ord('A') \n",
    "            orig_text.append(chr(x)) \n",
    "        return(\"\" . join(orig_text)) "
   ]
  },
  {
   "cell_type": "code",
   "execution_count": 12,
   "metadata": {},
   "outputs": [
    {
     "name": "stdout",
     "output_type": "stream",
     "text": [
      "Ciphertext : BTLEDKLEEAOR\n",
      "Original/Decrypted Text : ATTACKATDAWN\n"
     ]
    }
   ],
   "source": [
    "v = Vignere()\n",
    "\n",
    "string = \"ATTACKATDAWN\"\n",
    "keyword = \"BASEBALL\"\n",
    "\n",
    "key = v.generateKey(string, keyword) \n",
    "cipher_text = v.cipherText(string,key) \n",
    "\n",
    "print('Ciphertext :', cipher_text) \n",
    "print('Original/Decrypted Text :', v.originalText(cipher_text, key)) "
   ]
  },
  {
   "cell_type": "markdown",
   "metadata": {},
   "source": [
    "# II. Transposition Ciphers"
   ]
  },
  {
   "cell_type": "markdown",
   "metadata": {},
   "source": [
    "## 1. Rail Fence Cipher  \n",
    "\n",
    "In the rail fence cipher, the plain text is written downwards and diagonally on successive \"rails\" of an imaginary fence, then moving up when the bottom rail is reached. When the top rail is reached, the message is written downwards again until the whole plaintext is written out. The message is then read off in rows. For example, with 3 \"rails\" and a message 'DEFEND THE EAST WALL XX', the cipher text becomes 'DNETLEEDHESWLXFTAAX'.\n",
    "\n",
    "<img src=\"rail_fence.jpg\" alt=\"Vignere Table\" style=\"width: 400px;\"/> \n",
    "\n",
    "Source: https://en.wikipedia.org/wiki/Rail_fence_cipher"
   ]
  },
  {
   "cell_type": "code",
   "execution_count": 13,
   "metadata": {},
   "outputs": [],
   "source": [
    "class RailFence:\n",
    "\n",
    "    def encrypt(self, s, n):\n",
    "        fence = [[] for i in range(n)]\n",
    "        rail  = 0\n",
    "        var   = 1\n",
    "\n",
    "        for char in s:\n",
    "            fence[rail].append(char)\n",
    "            rail += var\n",
    "\n",
    "            if rail == n-1 or rail == 0:\n",
    "                var = -var\n",
    "\n",
    "        res = ''\n",
    "        for i in fence:\n",
    "            for j in i:\n",
    "                res += j\n",
    "\n",
    "        return res\n",
    "\n",
    "    def decrypt(self, s, n):\n",
    "        fence = [[] for i in range(n)]\n",
    "        rail  = 0\n",
    "        var   = 1\n",
    "\n",
    "        for char in s:\n",
    "            fence[rail].append(char)\n",
    "            rail += var\n",
    "\n",
    "            if rail == n-1 or rail == 0:\n",
    "                var = -var\n",
    "\n",
    "        rFence = [[] for i in range(n)]\n",
    "\n",
    "        i = 0\n",
    "        l = len(s)\n",
    "        s = list(s)\n",
    "        for r in fence:\n",
    "            for j in range(len(r)):\n",
    "                rFence[i].append(s[0])\n",
    "                s.remove(s[0])\n",
    "            i += 1\n",
    "\n",
    "        rail = 0\n",
    "        var  = 1\n",
    "        r = ''\n",
    "        for i in range(l):\n",
    "            r += rFence[rail][0]\n",
    "            rFence[rail].remove(rFence[rail][0])\n",
    "            rail += var\n",
    "\n",
    "            if rail == n-1 or rail == 0:\n",
    "                var = -var\n",
    "\n",
    "        return r"
   ]
  },
  {
   "cell_type": "code",
   "execution_count": 14,
   "metadata": {},
   "outputs": [
    {
     "name": "stdout",
     "output_type": "stream",
     "text": [
      "Ciphertext : ctdtahpeionhrbiarweb\n",
      "Original/Decrypted: chapteridowntherabbi\n"
     ]
    }
   ],
   "source": [
    "rf = RailFence()\n",
    "cipher_text = rf.encrypt(txt_file[:20], 3)\n",
    "print('Ciphertext :', cipher_text)\n",
    "print('Original/Decrypted:', rf.decrypt(cipher_text, 3))"
   ]
  },
  {
   "cell_type": "markdown",
   "metadata": {},
   "source": [
    "## 2. Permutation Cipher  \n",
    "\n",
    "A transposition cipher is a method of encryption by which the positions held by units of plaintext (which are commonly characters or groups of characters) are shifted according to a regular system, so that the ciphertext constitutes a permutation of the plaintext. The key for the columnar transposition cipher is a keyword, e.g. `GERMAN`. The row length that is used is the same as the length of the keyword. The plaintext is then written, row by row, such that the length of each row is the same length as the keyword. Padding with a special, low-frequency, character such as `x` may be used to fill up the last row as necessary. \n",
    "\n",
    "<img src=\"permutation_1.png\" alt=\"Vignere Table\" style=\"width: 100px;\"/> \n",
    " \n",
    "\n",
    "Subsequently, the columns are now reordered such that the letters in the key word are ordered alphabetically and the cipher text is read along the columns from left to the right.\n",
    "\n",
    "<img src=\"permutation_2.png\" alt=\"Vignere Table\" style=\"width: 100px;\"/> \n",
    " \n",
    "\n",
    "In the example shown above the cipher text would be:  \n",
    "\n",
    "`nalcxehwttdttfseeleedsoaxfeahl`\n",
    "\n",
    "Source: http://practicalcryptography.com/ciphers/columnar-transposition-cipher/"
   ]
  },
  {
   "cell_type": "code",
   "execution_count": 15,
   "metadata": {},
   "outputs": [
    {
     "name": "stdout",
     "output_type": "stream",
     "text": [
      "Ciphertext : nalcxehwttdttfseeleedsoaxfeahl\n",
      "Original/Decrypted: defendtheeastwallofthecastlexx\n"
     ]
    }
   ],
   "source": [
    "class Permute:\n",
    "    \n",
    "    def encrypt(self, msg, key):\n",
    "        msg += 'x'*(math.ceil(len(msg) / len(key)) * len(key) - len(msg))\n",
    "        key = [ord(ch) for ch in key]\n",
    "        sorted_key = sorted(key)\n",
    "        n_columns = len(key)\n",
    "        n_rows = int(len(msg)/n_columns)\n",
    "        rows = [msg[i:i+n_columns] for i in range(0, len(msg), n_columns)]\n",
    "        rows_t = list(map(list, zip(*rows)))\n",
    "        cipher_text = ''\n",
    "        for num in sorted_key:\n",
    "            cipher_text += ''.join(rows_t[key.index(num)])\n",
    "        return cipher_text\n",
    "\n",
    "    def decrypt(self, msg, key):\n",
    "        key = [ord(ch) for ch in key]\n",
    "        sorted_key = sorted(key)\n",
    "        n_columns = len(key)\n",
    "        n_rows = int(len(msg)/n_columns)\n",
    "        rows = [msg[i:i+n_rows] for i in range(0, len(msg), n_rows)]\n",
    "        res = []\n",
    "        for num in key:\n",
    "            res.append(rows[sorted_key.index(num)])\n",
    "        res_t = list(map(list, zip(*res)))\n",
    "        decoded_text = ''.join([item for sublist in res_t for item in sublist])\n",
    "        return decoded_text\n",
    "\n",
    "key = 'GERMAN'\n",
    "plain_text = 'defendtheeastwallofthecastle'\n",
    "\n",
    "p = Permute()\n",
    "cipher_text = p.encrypt(plain_text, key)\n",
    "decoded_text = p.decrypt(cipher_text, key)\n",
    "\n",
    "print('Ciphertext :', cipher_text)\n",
    "print('Original/Decrypted:', p.decrypt(cipher_text, key))"
   ]
  },
  {
   "cell_type": "markdown",
   "metadata": {},
   "source": [
    "## 3. Product Cipher  \n",
    "\n",
    "In cryptography, a product cipher combines two or more transformations in a manner intending that the resulting cipher is more secure than the individual components to make it resistant to cryptanalysis. The product cipher combines a sequence of simple transformations such as substitution (S-box), permutation (P-box), and modular arithmetic. A product cipher that uses only substitutions and permutations is called a SP-network. Feistel ciphers are an important class of product ciphers.  \n",
    "\n",
    "Source: https://en.wikipedia.org/wiki/Product_cipher"
   ]
  },
  {
   "cell_type": "code",
   "execution_count": 16,
   "metadata": {},
   "outputs": [
    {
     "name": "stdout",
     "output_type": "stream",
     "text": [
      "Ciphertext : JIWQNQZLVQAFZARXLBLXYQCNYXCQ\n",
      "Original/Decrypted Text : DEFENDTHEEASTWALLOFTHECASTLE\n"
     ]
    }
   ],
   "source": [
    "msg = 'DEFENDTHEEASTWALLOFTHECASTLE'\n",
    "key = 'GERMAN'\n",
    "\n",
    "v = Vignere()\n",
    "key = v.generateKey(msg, key) \n",
    "cipher_text = v.cipherText(msg, key) \n",
    "\n",
    "print('Ciphertext :', cipher_text) \n",
    "print('Original/Decrypted Text :', v.originalText(cipher_text, key))"
   ]
  },
  {
   "cell_type": "code",
   "execution_count": 17,
   "metadata": {},
   "outputs": [
    {
     "name": "stdout",
     "output_type": "stream",
     "text": [
      "Ciphertext : nalcxilaxxjzzlyqqxqqqfbnxwvryc\n",
      "Original/Decrypted: jiwqnqzlvqafzarxlblxyqcnyxcqxx\n"
     ]
    }
   ],
   "source": [
    "msg_cont = cipher_text.lower()\n",
    "key = 'GERMAN'\n",
    "\n",
    "p = Permute()\n",
    "sp_cipher_text = p.encrypt(msg_cont, key)\n",
    "decoded_text = p.decrypt(sp_cipher_text, key)\n",
    "\n",
    "print('Ciphertext :', sp_cipher_text)\n",
    "print('Original/Decrypted:', p.decrypt(sp_cipher_text, key))"
   ]
  },
  {
   "cell_type": "code",
   "execution_count": null,
   "metadata": {},
   "outputs": [],
   "source": []
  }
 ],
 "metadata": {
  "kernelspec": {
   "display_name": "Python 3",
   "language": "python",
   "name": "python3"
  },
  "language_info": {
   "codemirror_mode": {
    "name": "ipython",
    "version": 3
   },
   "file_extension": ".py",
   "mimetype": "text/x-python",
   "name": "python",
   "nbconvert_exporter": "python",
   "pygments_lexer": "ipython3",
   "version": "3.6.5"
  }
 },
 "nbformat": 4,
 "nbformat_minor": 4
}
